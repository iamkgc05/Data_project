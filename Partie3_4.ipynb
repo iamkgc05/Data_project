{
 "cells": [
  {
   "cell_type": "markdown",
   "metadata": {},
   "source": [
    "# XGBOOST"
   ]
  },
  {
   "cell_type": "markdown",
   "metadata": {},
   "source": [
    "## Importation des bibliotheques et du dataset\n"
   ]
  },
  {
   "cell_type": "code",
   "execution_count": 13,
   "metadata": {},
   "outputs": [],
   "source": [
    "import pandas as pd\n",
    "import numpy as np\n",
    "import warnings\n",
    "warnings.filterwarnings(\"ignore\")\n",
    "data = pd.read_csv('heart_disease_by_ceo.csv', index_col=0)"
   ]
  },
  {
   "cell_type": "markdown",
   "metadata": {},
   "source": [
    "## Division des données"
   ]
  },
  {
   "cell_type": "markdown",
   "metadata": {},
   "source": [
    "On va ensuite divise notre data frame en deux ensembles afin d'entrainer notre modele.\n",
    "\n",
    "D'abord assigner toutes les valeurs sauf Heart diseases dans x et Heart diseases dans y."
   ]
  },
  {
   "cell_type": "code",
   "execution_count": 14,
   "metadata": {},
   "outputs": [],
   "source": [
    "from sklearn.model_selection import train_test_split\n",
    "X = data.drop('HeartDisease', axis=1)\n",
    "y = data['HeartDisease']"
   ]
  },
  {
   "cell_type": "markdown",
   "metadata": {},
   "source": [
    "### Sous-partie : Verification des types"
   ]
  },
  {
   "cell_type": "markdown",
   "metadata": {},
   "source": [
    "Dans le cas du XGBoost, il est necessaire de convertir les variables categorielles en variables numeriques afin de pouvoir les utiliser dans le modele. Dans notre cas, lors du nettoyage de notre dataset, nous avons converti les variables categorielles en variables numeriques. Nous n'avons donc pas besoin de le faire ici."
   ]
  },
  {
   "cell_type": "code",
   "execution_count": 15,
   "metadata": {},
   "outputs": [
    {
     "data": {
      "text/plain": [
       "Age                    int64\n",
       "Sex                    int64\n",
       "RestingBP              int64\n",
       "Cholesterol            int64\n",
       "FastingBS              int64\n",
       "MaxHR                  int64\n",
       "ExerciseAngina         int64\n",
       "Oldpeak              float64\n",
       "TA_ChestPain           int64\n",
       "ATA_ChestPain          int64\n",
       "NAP_ChestPain          int64\n",
       "ASY_ChestPain          int64\n",
       "Normal_RestingECG      int64\n",
       "ST_RestingECG          int64\n",
       "LVH_RestingECG         int64\n",
       "Up_ST_Slope            int64\n",
       "Flat_ST_Slope          int64\n",
       "Down_ST_Slope          int64\n",
       "dtype: object"
      ]
     },
     "execution_count": 15,
     "metadata": {},
     "output_type": "execute_result"
    }
   ],
   "source": [
    "X.dtypes"
   ]
  },
  {
   "cell_type": "markdown",
   "metadata": {},
   "source": [
    "## Division des données (Suite)"
   ]
  },
  {
   "cell_type": "markdown",
   "metadata": {},
   "source": [
    "Puis je vais diviser mes données de la manière suivante : \n",
    "\n",
    "80% pour l'entrainement et 20% pour le test."
   ]
  },
  {
   "cell_type": "code",
   "execution_count": 16,
   "metadata": {},
   "outputs": [],
   "source": [
    "X_train, X_test, y_train, y_test = train_test_split(X, y, test_size=0.2, random_state=42)\n"
   ]
  },
  {
   "cell_type": "markdown",
   "metadata": {},
   "source": [
    "On va ensuite importer la librairie XGBoost et creer un modele XGBoost.\n",
    "\n",
    "On utilise \"xgb.DMatrix\" pour convertir les données en un format utilisable et optimisé par XGBoost."
   ]
  },
  {
   "cell_type": "code",
   "execution_count": 17,
   "metadata": {},
   "outputs": [],
   "source": [
    "import xgboost as xgb\n",
    "dtrain_reg = xgb.DMatrix(X_train, y_train)\n",
    "dtest_reg = xgb.DMatrix(X_test, y_test)\n"
   ]
  },
  {
   "cell_type": "markdown",
   "metadata": {},
   "source": [
    "# XGBoost Regression"
   ]
  },
  {
   "cell_type": "markdown",
   "metadata": {},
   "source": [
    "## Entrainement du modele"
   ]
  },
  {
   "cell_type": "markdown",
   "metadata": {},
   "source": [
    "On va ensuite passé à l'entrainement de notre modele. On utilise \"xgb.train\" pour entrainer notre modele avec des parametres specifiques.\n",
    "\n",
    "les parametres correspondent à : \n",
    "\n",
    "param : les parametres du modele\n",
    "\"objective\" : \"reg:squarederror\" pour une regression\n",
    "\"tree_method\": \"hist\" qui est une methode d'entrainement plus rapide\n",
    "n : le nombre d'iterations\n"
   ]
  },
  {
   "cell_type": "code",
   "execution_count": 18,
   "metadata": {},
   "outputs": [],
   "source": [
    "params = {\"objective\": \"reg:squarederror\", \"tree_method\": \"hist\"}\n",
    "\n",
    "n = 100\n",
    "model = xgb.train(params=params, dtrain=dtrain_reg, num_boost_round=n)\n",
    "\n"
   ]
  },
  {
   "cell_type": "code",
   "execution_count": 19,
   "metadata": {},
   "outputs": [],
   "source": [
    "from sklearn.metrics import mean_squared_error\n",
    "\n",
    "preds = model.predict(dtest_reg)\n"
   ]
  },
  {
   "cell_type": "markdown",
   "metadata": {},
   "source": [
    "On va ensuite calculer l'erreur quadratique moyenne pour evaluer notre modele. Plus il est bas plus notre modele est bon."
   ]
  },
  {
   "cell_type": "code",
   "execution_count": 20,
   "metadata": {},
   "outputs": [
    {
     "name": "stdout",
     "output_type": "stream",
     "text": [
      "RMSE: 0.344\n"
     ]
    }
   ],
   "source": [
    "rmse = mean_squared_error(y_test, preds, squared=False)\n",
    "print(f\"RMSE: {rmse:.3f}\")\n"
   ]
  },
  {
   "cell_type": "markdown",
   "metadata": {},
   "source": [
    "On rajoute ensuite le parametre \"eval_metric : logloss\" qui est une metrique permettant une meilleure resolution des problemes de classification binaire. Il mesure l'erreur entre les probabilités prédites et les valeurs reelles.\n",
    "\n",
    "En gros il ameliore la precision de notre modele et penalise les erreurs de classification."
   ]
  },
  {
   "cell_type": "code",
   "execution_count": 21,
   "metadata": {},
   "outputs": [
    {
     "name": "stdout",
     "output_type": "stream",
     "text": [
      "[0]\ttrain-logloss:0.52785\ttest-logloss:0.55410\n"
     ]
    },
    {
     "name": "stdout",
     "output_type": "stream",
     "text": [
      "[1]\ttrain-logloss:0.43180\ttest-logloss:0.47731\n",
      "[2]\ttrain-logloss:0.36709\ttest-logloss:0.42603\n",
      "[3]\ttrain-logloss:0.32072\ttest-logloss:0.39428\n",
      "[4]\ttrain-logloss:0.28087\ttest-logloss:0.37323\n",
      "[5]\ttrain-logloss:0.25258\ttest-logloss:0.35497\n",
      "[6]\ttrain-logloss:0.22769\ttest-logloss:0.33700\n",
      "[7]\ttrain-logloss:0.20708\ttest-logloss:0.32859\n",
      "[8]\ttrain-logloss:0.19094\ttest-logloss:0.32649\n",
      "[9]\ttrain-logloss:0.17758\ttest-logloss:0.31876\n",
      "[10]\ttrain-logloss:0.16452\ttest-logloss:0.31715\n",
      "[11]\ttrain-logloss:0.15201\ttest-logloss:0.31259\n",
      "[12]\ttrain-logloss:0.14088\ttest-logloss:0.31643\n",
      "[13]\ttrain-logloss:0.13295\ttest-logloss:0.30930\n",
      "[14]\ttrain-logloss:0.12606\ttest-logloss:0.30419\n",
      "[15]\ttrain-logloss:0.11957\ttest-logloss:0.30801\n",
      "[16]\ttrain-logloss:0.11438\ttest-logloss:0.30991\n",
      "[17]\ttrain-logloss:0.10877\ttest-logloss:0.30770\n",
      "[18]\ttrain-logloss:0.10448\ttest-logloss:0.30756\n",
      "[19]\ttrain-logloss:0.09708\ttest-logloss:0.30411\n",
      "[20]\ttrain-logloss:0.09187\ttest-logloss:0.30021\n",
      "[21]\ttrain-logloss:0.08683\ttest-logloss:0.30647\n",
      "[22]\ttrain-logloss:0.08179\ttest-logloss:0.30810\n",
      "[23]\ttrain-logloss:0.07856\ttest-logloss:0.31053\n",
      "[24]\ttrain-logloss:0.07533\ttest-logloss:0.31431\n",
      "[25]\ttrain-logloss:0.07255\ttest-logloss:0.31166\n",
      "[26]\ttrain-logloss:0.06904\ttest-logloss:0.31039\n",
      "[27]\ttrain-logloss:0.06660\ttest-logloss:0.31272\n",
      "[28]\ttrain-logloss:0.06403\ttest-logloss:0.31014\n",
      "[29]\ttrain-logloss:0.06213\ttest-logloss:0.30920\n",
      "[30]\ttrain-logloss:0.06028\ttest-logloss:0.31344\n",
      "[31]\ttrain-logloss:0.05851\ttest-logloss:0.31525\n",
      "[32]\ttrain-logloss:0.05715\ttest-logloss:0.31618\n",
      "[33]\ttrain-logloss:0.05536\ttest-logloss:0.31795\n",
      "[34]\ttrain-logloss:0.05347\ttest-logloss:0.32157\n",
      "[35]\ttrain-logloss:0.05193\ttest-logloss:0.31837\n",
      "[36]\ttrain-logloss:0.05063\ttest-logloss:0.31682\n",
      "[37]\ttrain-logloss:0.04930\ttest-logloss:0.31874\n",
      "[38]\ttrain-logloss:0.04792\ttest-logloss:0.32050\n",
      "[39]\ttrain-logloss:0.04644\ttest-logloss:0.32593\n",
      "[40]\ttrain-logloss:0.04543\ttest-logloss:0.32876\n",
      "[41]\ttrain-logloss:0.04485\ttest-logloss:0.32949\n",
      "[42]\ttrain-logloss:0.04377\ttest-logloss:0.33040\n",
      "[43]\ttrain-logloss:0.04267\ttest-logloss:0.32936\n",
      "[44]\ttrain-logloss:0.04183\ttest-logloss:0.33154\n",
      "[45]\ttrain-logloss:0.04088\ttest-logloss:0.33241\n",
      "[46]\ttrain-logloss:0.04027\ttest-logloss:0.33391\n",
      "[47]\ttrain-logloss:0.03949\ttest-logloss:0.33351\n",
      "[48]\ttrain-logloss:0.03868\ttest-logloss:0.33233\n",
      "[49]\ttrain-logloss:0.03797\ttest-logloss:0.33516\n",
      "[50]\ttrain-logloss:0.03727\ttest-logloss:0.33631\n",
      "[51]\ttrain-logloss:0.03664\ttest-logloss:0.33655\n",
      "[52]\ttrain-logloss:0.03592\ttest-logloss:0.33684\n",
      "[53]\ttrain-logloss:0.03534\ttest-logloss:0.33640\n",
      "[54]\ttrain-logloss:0.03464\ttest-logloss:0.33814\n",
      "[55]\ttrain-logloss:0.03417\ttest-logloss:0.33687\n",
      "[56]\ttrain-logloss:0.03358\ttest-logloss:0.33622\n",
      "[57]\ttrain-logloss:0.03297\ttest-logloss:0.33904\n",
      "[58]\ttrain-logloss:0.03218\ttest-logloss:0.34054\n",
      "[59]\ttrain-logloss:0.03168\ttest-logloss:0.34124\n",
      "[60]\ttrain-logloss:0.03115\ttest-logloss:0.34086\n",
      "[61]\ttrain-logloss:0.03058\ttest-logloss:0.34151\n",
      "[62]\ttrain-logloss:0.02994\ttest-logloss:0.34112\n",
      "[63]\ttrain-logloss:0.02959\ttest-logloss:0.34204\n",
      "[64]\ttrain-logloss:0.02911\ttest-logloss:0.34308\n",
      "[65]\ttrain-logloss:0.02860\ttest-logloss:0.34154\n",
      "[66]\ttrain-logloss:0.02820\ttest-logloss:0.34280\n",
      "[67]\ttrain-logloss:0.02781\ttest-logloss:0.34397\n",
      "[68]\ttrain-logloss:0.02747\ttest-logloss:0.34594\n",
      "[69]\ttrain-logloss:0.02725\ttest-logloss:0.34624\n",
      "[70]\ttrain-logloss:0.02688\ttest-logloss:0.34890\n",
      "[71]\ttrain-logloss:0.02660\ttest-logloss:0.35070\n",
      "[72]\ttrain-logloss:0.02633\ttest-logloss:0.35079\n",
      "[73]\ttrain-logloss:0.02596\ttest-logloss:0.34959\n",
      "[74]\ttrain-logloss:0.02562\ttest-logloss:0.35235\n",
      "[75]\ttrain-logloss:0.02532\ttest-logloss:0.35246\n",
      "[76]\ttrain-logloss:0.02495\ttest-logloss:0.35183\n",
      "[77]\ttrain-logloss:0.02469\ttest-logloss:0.35379\n",
      "[78]\ttrain-logloss:0.02442\ttest-logloss:0.35372\n",
      "[79]\ttrain-logloss:0.02419\ttest-logloss:0.35297\n",
      "[80]\ttrain-logloss:0.02395\ttest-logloss:0.35298\n",
      "[81]\ttrain-logloss:0.02369\ttest-logloss:0.35578\n",
      "[82]\ttrain-logloss:0.02340\ttest-logloss:0.35481\n",
      "[83]\ttrain-logloss:0.02324\ttest-logloss:0.35543\n",
      "[84]\ttrain-logloss:0.02306\ttest-logloss:0.35600\n",
      "[85]\ttrain-logloss:0.02279\ttest-logloss:0.35527\n",
      "[86]\ttrain-logloss:0.02260\ttest-logloss:0.35820\n",
      "[87]\ttrain-logloss:0.02242\ttest-logloss:0.35917\n",
      "[88]\ttrain-logloss:0.02218\ttest-logloss:0.36186\n",
      "[89]\ttrain-logloss:0.02196\ttest-logloss:0.36230\n",
      "[90]\ttrain-logloss:0.02169\ttest-logloss:0.36146\n",
      "[91]\ttrain-logloss:0.02150\ttest-logloss:0.36139\n",
      "[92]\ttrain-logloss:0.02131\ttest-logloss:0.36095\n",
      "[93]\ttrain-logloss:0.02119\ttest-logloss:0.36190\n",
      "[94]\ttrain-logloss:0.02100\ttest-logloss:0.36434\n",
      "[95]\ttrain-logloss:0.02077\ttest-logloss:0.36397\n",
      "[96]\ttrain-logloss:0.02059\ttest-logloss:0.36401\n",
      "[97]\ttrain-logloss:0.02045\ttest-logloss:0.36474\n",
      "[98]\ttrain-logloss:0.02031\ttest-logloss:0.36554\n",
      "[99]\ttrain-logloss:0.02018\ttest-logloss:0.36532\n"
     ]
    }
   ],
   "source": [
    "params = {\"objective\": \"binary:logistic\", \"tree_method\": \"hist\", \"eval_metric\": \"logloss\"}\n",
    "n = 100\n",
    "evals = [(dtrain_reg, \"train\"), (dtest_reg, \"test\")]\n",
    "model = xgb.train(params=params, dtrain=dtrain_reg, num_boost_round=n, evals=evals)\n"
   ]
  },
  {
   "cell_type": "markdown",
   "metadata": {},
   "source": [
    "## Prediction finale"
   ]
  },
  {
   "cell_type": "markdown",
   "metadata": {},
   "source": [
    "On va ensuite faire une prediction sur notre ensemble de test et afficher les resultats, donc l'exactitude et la precision de notre modele et ressortir une matrice de confusion."
   ]
  },
  {
   "cell_type": "code",
   "execution_count": 22,
   "metadata": {},
   "outputs": [
    {
     "name": "stdout",
     "output_type": "stream",
     "text": [
      "Métriques de performance :\n",
      "Accuracy: 0.8533\n",
      "F1-score: 0.8767\n",
      "\n",
      "Matrice de confusion :\n",
      "[[61 11]\n",
      " [16 96]]\n",
      "\n",
      "Rapport de classification détaillé :\n"
     ]
    },
    {
     "name": "stdout",
     "output_type": "stream",
     "text": [
      "              precision    recall  f1-score   support\n",
      "\n",
      "           0       0.79      0.85      0.82        72\n",
      "           1       0.90      0.86      0.88       112\n",
      "\n",
      "    accuracy                           0.85       184\n",
      "   macro avg       0.84      0.85      0.85       184\n",
      "weighted avg       0.86      0.85      0.85       184\n",
      "\n"
     ]
    },
    {
     "data": {
      "image/png": "[encoded data removed]",
      "text/plain": [
       "<Figure size 576x432 with 2 Axes>"
      ]
     },
     "metadata": {
      "needs_background": "light"
     },
     "output_type": "display_data"
    }
   ],
   "source": [
    "# Faire des prédictions\n",
    "y_pred = model.predict(dtest_reg)\n",
    "y_pred_binary = (y_pred > 0.5).astype(int)  # Convertir les probabilités en classes binaires\n",
    "\n",
    "# Calculer les métriques de performance\n",
    "from sklearn.metrics import accuracy_score, f1_score, confusion_matrix, classification_report\n",
    "\n",
    "# Accuracy et F1-score\n",
    "accuracy = accuracy_score(y_test, y_pred_binary)\n",
    "f1 = f1_score(y_test, y_pred_binary)\n",
    "\n",
    "# Matrice de confusion\n",
    "conf_matrix = confusion_matrix(y_test, y_pred_binary)\n",
    "\n",
    "# Afficher les résultats\n",
    "print(\"Métriques de performance :\")\n",
    "print(f\"Accuracy: {accuracy:.4f}\")\n",
    "print(f\"F1-score: {f1:.4f}\")\n",
    "print(\"\\nMatrice de confusion :\")\n",
    "print(conf_matrix)\n",
    "print(\"\\nRapport de classification détaillé :\")\n",
    "print(classification_report(y_test, y_pred_binary))\n",
    "\n",
    "# Visualisation de la matrice de confusion\n",
    "import seaborn as sns\n",
    "import matplotlib.pyplot as plt\n",
    "\n",
    "plt.figure(figsize=(8, 6))\n",
    "sns.heatmap(conf_matrix, annot=True, fmt='d', cmap='Blues')\n",
    "plt.title('Matrice de confusion')\n",
    "plt.ylabel('Valeurs réelles')\n",
    "plt.xlabel('Prédictions')\n",
    "plt.show()"
   ]
  },
  {
   "cell_type": "markdown",
   "metadata": {},
   "source": [
    "# Test "
   ]
  },
  {
   "cell_type": "markdown",
   "metadata": {},
   "source": [
    "### Fonction de test"
   ]
  },
  {
   "cell_type": "markdown",
   "metadata": {},
   "source": [
    "On va ensuite utiliser des fonction de test afin de \"tester\" notre modele. Les fonctions sont les suivantes :"
   ]
  },
  {
   "cell_type": "code",
   "execution_count": 23,
   "metadata": {},
   "outputs": [],
   "source": [
    "def tester_patient(Liste_donnees):\n",
    "    df = pd.DataFrame(Liste_donnees, columns=X.columns)\n",
    "    dtest = xgb.DMatrix(df)\n",
    "    prediction_proba = model.predict(dtest)\n",
    "    prediction = (prediction_proba > 0.5).astype(int)\n",
    "\n",
    "    print(f\"Probabilité de maladie cardiaque : {prediction_proba[0]:.4f}\")\n",
    "    print(f\"Prédiction : {'Malade' if prediction[0] == 1 else 'Non Malade'}\")\n",
    "    \n",
    "    return prediction_proba[0], prediction[0]\n",
    "    \n",
    "def tester_plusieurs_patient(Liste):\n",
    "    for p in Liste:\n",
    "        tester_patient(p)\n",
    "        print(\"\\n\")"
   ]
  },
  {
   "cell_type": "markdown",
   "metadata": {},
   "source": [
    "### Tests Unitaires"
   ]
  },
  {
   "cell_type": "markdown",
   "metadata": {},
   "source": [
    "On va ensuite tester notre modele avec des tests unitaires. On va tester la fonction de test avec des valeurs connues et verifier si les resultats sont corrects."
   ]
  },
  {
   "cell_type": "code",
   "execution_count": 24,
   "metadata": {},
   "outputs": [
    {
     "name": "stdout",
     "output_type": "stream",
     "text": [
      "Probabilité de maladie cardiaque : 0.0012\n",
      "Prédiction : Non Malade\n",
      "\n",
      "\n",
      "Probabilité de maladie cardiaque : 0.9574\n",
      "Prédiction : Malade\n",
      "\n",
      "\n",
      "Probabilité de maladie cardiaque : 0.9771\n",
      "Prédiction : Malade\n",
      "\n",
      "\n",
      "Probabilité de maladie cardiaque : 0.9994\n",
      "Prédiction : Malade\n",
      "\n",
      "\n",
      "Probabilité de maladie cardiaque : 0.9075\n",
      "Prédiction : Malade\n",
      "\n",
      "\n"
     ]
    }
   ],
   "source": [
    "\n",
    "patient = [[40,0,140,289,0,172,0,0.0,0,1,0,0,1,0,0,1,0,0]] #0\n",
    "patient2 = [[57,1,130,236,0,174,0,0.0,0,1,0,0,0,0,1,0,1,0]] #916\n",
    "patient3 = [[57,0,130,131,0,115,1,1.2,0,0,0,1,1,0,0,0,1,0]] #915\n",
    "patient4 = [[59,0,164,176,1,90,0,1.0,0,0,0,1,0,0,1,0,1,0]] #911\n",
    "patient5 = [[49,1,160,180,0,156,0,1.0,0,0,1,0,1,0,0,0,1,0]] #1\n",
    "\n",
    "liste_patients = [patient, patient2, patient3, patient4, patient5]\n",
    "tester_plusieurs_patient(liste_patients)\n",
    "\n"
   ]
  }
 ],
 "metadata": {
  "kernelspec": {
   "display_name": "Python 3",
   "language": "python",
   "name": "python3"
  },
  "language_info": {
   "codemirror_mode": {
    "name": "ipython",
    "version": 3
   },
   "file_extension": ".py",
   "mimetype": "text/x-python",
   "name": "python",
   "nbconvert_exporter": "python",
   "pygments_lexer": "ipython3",
   "version": "3.10.6"
  }
 },
 "nbformat": 4,
 "nbformat_minor": 2
}
