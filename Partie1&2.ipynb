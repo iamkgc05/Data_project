{
 "cells": [
  {
   "cell_type": "markdown",
   "metadata": {},
   "source": [
    "# Projet DATA Partie 1&2"
   ]
  },
  {
   "cell_type": "markdown",
   "metadata": {},
   "source": [
    "Voici mon projet data sur le dataset \"heart_disease_data.csv\" avant tout chose je vais analyser et explorer mon dataset afin de de ressortir les valeurs importantes et de nettoyer les données. Suite à cela on va utiliser des methodes vu en cours pour faire une visualisation des données (Voir la Partie 3.0)"
   ]
  },
  {
   "cell_type": "markdown",
   "metadata": {},
   "source": [
    "## Afficher le base de données"
   ]
  },
  {
   "cell_type": "markdown",
   "metadata": {},
   "source": [
    "Je vais d'abord \"import\" la bibliotheque panda."
   ]
  },
  {
   "cell_type": "code",
   "execution_count": 1,
   "metadata": {},
   "outputs": [],
   "source": [
    "import pandas as pd\n",
    "data = pd.read_csv('heart_disease_data.csv')"
   ]
  },
  {
   "cell_type": "code",
   "execution_count": 2,
   "metadata": {},
   "outputs": [
    {
     "name": "stdout",
     "output_type": "stream",
     "text": [
      "<class 'pandas.core.frame.DataFrame'>\n",
      "RangeIndex: 918 entries, 0 to 917\n",
      "Data columns (total 12 columns):\n",
      " #   Column          Non-Null Count  Dtype  \n",
      "---  ------          --------------  -----  \n",
      " 0   Age             918 non-null    int64  \n",
      " 1   Sex             918 non-null    object \n",
      " 2   ChestPainType   918 non-null    object \n",
      " 3   RestingBP       918 non-null    int64  \n",
      " 4   Cholesterol     918 non-null    int64  \n",
      " 5   FastingBS       918 non-null    int64  \n",
      " 6   RestingECG      918 non-null    object \n",
      " 7   MaxHR           918 non-null    int64  \n",
      " 8   ExerciseAngina  918 non-null    object \n",
      " 9   Oldpeak         918 non-null    float64\n",
      " 10  ST_Slope        918 non-null    object \n",
      " 11  HeartDisease    918 non-null    int64  \n",
      "dtypes: float64(1), int64(6), object(5)\n",
      "memory usage: 86.2+ KB\n"
     ]
    }
   ],
   "source": [
    "data.info()\n",
    "# J'affiche les informations sur la base de données pour voir les types de données et les valeurs manquantes"
   ]
  },
  {
   "cell_type": "markdown",
   "metadata": {},
   "source": [
    "Il y'a 918 lignes et 12 columnes.\n",
    "\n",
    "On remarque qu'il n'y a aucune données nulles dans les lignes de la bases de données.\n",
    "Je vais afficher les premieres lignes et les dernières lignes pour voir si il y'a des doublons visibles."
   ]
  },
  {
   "cell_type": "code",
   "execution_count": 3,
   "metadata": {},
   "outputs": [
    {
     "data": {
      "text/html": [
       "<div>\n",
       "<style scoped>\n",
       "    .dataframe tbody tr th:only-of-type {\n",
       "        vertical-align: middle;\n",
       "    }\n",
       "\n",
       "    .dataframe tbody tr th {\n",
       "        vertical-align: top;\n",
       "    }\n",
       "\n",
       "    .dataframe thead th {\n",
       "        text-align: right;\n",
       "    }\n",
       "</style>\n",
       "<table border=\"1\" class=\"dataframe\">\n",
       "  <thead>\n",
       "    <tr style=\"text-align: right;\">\n",
       "      <th></th>\n",
       "      <th>Age</th>\n",
       "      <th>Sex</th>\n",
       "      <th>ChestPainType</th>\n",
       "      <th>RestingBP</th>\n",
       "      <th>Cholesterol</th>\n",
       "      <th>FastingBS</th>\n",
       "      <th>RestingECG</th>\n",
       "      <th>MaxHR</th>\n",
       "      <th>ExerciseAngina</th>\n",
       "      <th>Oldpeak</th>\n",
       "      <th>ST_Slope</th>\n",
       "      <th>HeartDisease</th>\n",
       "    </tr>\n",
       "  </thead>\n",
       "  <tbody>\n",
       "    <tr>\n",
       "      <th>0</th>\n",
       "      <td>40</td>\n",
       "      <td>M</td>\n",
       "      <td>ATA</td>\n",
       "      <td>140</td>\n",
       "      <td>289</td>\n",
       "      <td>0</td>\n",
       "      <td>Normal</td>\n",
       "      <td>172</td>\n",
       "      <td>N</td>\n",
       "      <td>0.0</td>\n",
       "      <td>Up</td>\n",
       "      <td>0</td>\n",
       "    </tr>\n",
       "    <tr>\n",
       "      <th>1</th>\n",
       "      <td>49</td>\n",
       "      <td>F</td>\n",
       "      <td>NAP</td>\n",
       "      <td>160</td>\n",
       "      <td>180</td>\n",
       "      <td>0</td>\n",
       "      <td>Normal</td>\n",
       "      <td>156</td>\n",
       "      <td>N</td>\n",
       "      <td>1.0</td>\n",
       "      <td>Flat</td>\n",
       "      <td>1</td>\n",
       "    </tr>\n",
       "    <tr>\n",
       "      <th>2</th>\n",
       "      <td>37</td>\n",
       "      <td>M</td>\n",
       "      <td>ATA</td>\n",
       "      <td>130</td>\n",
       "      <td>283</td>\n",
       "      <td>0</td>\n",
       "      <td>ST</td>\n",
       "      <td>98</td>\n",
       "      <td>N</td>\n",
       "      <td>0.0</td>\n",
       "      <td>Up</td>\n",
       "      <td>0</td>\n",
       "    </tr>\n",
       "    <tr>\n",
       "      <th>3</th>\n",
       "      <td>48</td>\n",
       "      <td>F</td>\n",
       "      <td>ASY</td>\n",
       "      <td>138</td>\n",
       "      <td>214</td>\n",
       "      <td>0</td>\n",
       "      <td>Normal</td>\n",
       "      <td>108</td>\n",
       "      <td>Y</td>\n",
       "      <td>1.5</td>\n",
       "      <td>Flat</td>\n",
       "      <td>1</td>\n",
       "    </tr>\n",
       "    <tr>\n",
       "      <th>4</th>\n",
       "      <td>54</td>\n",
       "      <td>M</td>\n",
       "      <td>NAP</td>\n",
       "      <td>150</td>\n",
       "      <td>195</td>\n",
       "      <td>0</td>\n",
       "      <td>Normal</td>\n",
       "      <td>122</td>\n",
       "      <td>N</td>\n",
       "      <td>0.0</td>\n",
       "      <td>Up</td>\n",
       "      <td>0</td>\n",
       "    </tr>\n",
       "  </tbody>\n",
       "</table>\n",
       "</div>"
      ],
      "text/plain": [
       "   Age Sex ChestPainType  RestingBP  Cholesterol  FastingBS RestingECG  MaxHR  \\\n",
       "0   40   M           ATA        140          289          0     Normal    172   \n",
       "1   49   F           NAP        160          180          0     Normal    156   \n",
       "2   37   M           ATA        130          283          0         ST     98   \n",
       "3   48   F           ASY        138          214          0     Normal    108   \n",
       "4   54   M           NAP        150          195          0     Normal    122   \n",
       "\n",
       "  ExerciseAngina  Oldpeak ST_Slope  HeartDisease  \n",
       "0              N      0.0       Up             0  \n",
       "1              N      1.0     Flat             1  \n",
       "2              N      0.0       Up             0  \n",
       "3              Y      1.5     Flat             1  \n",
       "4              N      0.0       Up             0  "
      ]
     },
     "execution_count": 3,
     "metadata": {},
     "output_type": "execute_result"
    }
   ],
   "source": [
    "data.head()"
   ]
  },
  {
   "cell_type": "code",
   "execution_count": 4,
   "metadata": {},
   "outputs": [
    {
     "data": {
      "text/html": [
       "<div>\n",
       "<style scoped>\n",
       "    .dataframe tbody tr th:only-of-type {\n",
       "        vertical-align: middle;\n",
       "    }\n",
       "\n",
       "    .dataframe tbody tr th {\n",
       "        vertical-align: top;\n",
       "    }\n",
       "\n",
       "    .dataframe thead th {\n",
       "        text-align: right;\n",
       "    }\n",
       "</style>\n",
       "<table border=\"1\" class=\"dataframe\">\n",
       "  <thead>\n",
       "    <tr style=\"text-align: right;\">\n",
       "      <th></th>\n",
       "      <th>Age</th>\n",
       "      <th>Sex</th>\n",
       "      <th>ChestPainType</th>\n",
       "      <th>RestingBP</th>\n",
       "      <th>Cholesterol</th>\n",
       "      <th>FastingBS</th>\n",
       "      <th>RestingECG</th>\n",
       "      <th>MaxHR</th>\n",
       "      <th>ExerciseAngina</th>\n",
       "      <th>Oldpeak</th>\n",
       "      <th>ST_Slope</th>\n",
       "      <th>HeartDisease</th>\n",
       "    </tr>\n",
       "  </thead>\n",
       "  <tbody>\n",
       "    <tr>\n",
       "      <th>913</th>\n",
       "      <td>45</td>\n",
       "      <td>M</td>\n",
       "      <td>TA</td>\n",
       "      <td>110</td>\n",
       "      <td>264</td>\n",
       "      <td>0</td>\n",
       "      <td>Normal</td>\n",
       "      <td>132</td>\n",
       "      <td>N</td>\n",
       "      <td>1.2</td>\n",
       "      <td>Flat</td>\n",
       "      <td>1</td>\n",
       "    </tr>\n",
       "    <tr>\n",
       "      <th>914</th>\n",
       "      <td>68</td>\n",
       "      <td>M</td>\n",
       "      <td>ASY</td>\n",
       "      <td>144</td>\n",
       "      <td>193</td>\n",
       "      <td>1</td>\n",
       "      <td>Normal</td>\n",
       "      <td>141</td>\n",
       "      <td>N</td>\n",
       "      <td>3.4</td>\n",
       "      <td>Flat</td>\n",
       "      <td>1</td>\n",
       "    </tr>\n",
       "    <tr>\n",
       "      <th>915</th>\n",
       "      <td>57</td>\n",
       "      <td>M</td>\n",
       "      <td>ASY</td>\n",
       "      <td>130</td>\n",
       "      <td>131</td>\n",
       "      <td>0</td>\n",
       "      <td>Normal</td>\n",
       "      <td>115</td>\n",
       "      <td>Y</td>\n",
       "      <td>1.2</td>\n",
       "      <td>Flat</td>\n",
       "      <td>1</td>\n",
       "    </tr>\n",
       "    <tr>\n",
       "      <th>916</th>\n",
       "      <td>57</td>\n",
       "      <td>F</td>\n",
       "      <td>ATA</td>\n",
       "      <td>130</td>\n",
       "      <td>236</td>\n",
       "      <td>0</td>\n",
       "      <td>LVH</td>\n",
       "      <td>174</td>\n",
       "      <td>N</td>\n",
       "      <td>0.0</td>\n",
       "      <td>Flat</td>\n",
       "      <td>1</td>\n",
       "    </tr>\n",
       "    <tr>\n",
       "      <th>917</th>\n",
       "      <td>38</td>\n",
       "      <td>M</td>\n",
       "      <td>NAP</td>\n",
       "      <td>138</td>\n",
       "      <td>175</td>\n",
       "      <td>0</td>\n",
       "      <td>Normal</td>\n",
       "      <td>173</td>\n",
       "      <td>N</td>\n",
       "      <td>0.0</td>\n",
       "      <td>Up</td>\n",
       "      <td>0</td>\n",
       "    </tr>\n",
       "  </tbody>\n",
       "</table>\n",
       "</div>"
      ],
      "text/plain": [
       "     Age Sex ChestPainType  RestingBP  Cholesterol  FastingBS RestingECG  \\\n",
       "913   45   M            TA        110          264          0     Normal   \n",
       "914   68   M           ASY        144          193          1     Normal   \n",
       "915   57   M           ASY        130          131          0     Normal   \n",
       "916   57   F           ATA        130          236          0        LVH   \n",
       "917   38   M           NAP        138          175          0     Normal   \n",
       "\n",
       "     MaxHR ExerciseAngina  Oldpeak ST_Slope  HeartDisease  \n",
       "913    132              N      1.2     Flat             1  \n",
       "914    141              N      3.4     Flat             1  \n",
       "915    115              Y      1.2     Flat             1  \n",
       "916    174              N      0.0     Flat             1  \n",
       "917    173              N      0.0       Up             0  "
      ]
     },
     "execution_count": 4,
     "metadata": {},
     "output_type": "execute_result"
    }
   ],
   "source": [
    "data.tail()"
   ]
  },
  {
   "cell_type": "markdown",
   "metadata": {},
   "source": [
    "Par mesure de precaution je vais retirer les doublons dans la base de données."
   ]
  },
  {
   "cell_type": "code",
   "execution_count": 5,
   "metadata": {},
   "outputs": [
    {
     "name": "stdout",
     "output_type": "stream",
     "text": [
      "<class 'pandas.core.frame.DataFrame'>\n",
      "RangeIndex: 918 entries, 0 to 917\n",
      "Data columns (total 12 columns):\n",
      " #   Column          Non-Null Count  Dtype  \n",
      "---  ------          --------------  -----  \n",
      " 0   Age             918 non-null    int64  \n",
      " 1   Sex             918 non-null    object \n",
      " 2   ChestPainType   918 non-null    object \n",
      " 3   RestingBP       918 non-null    int64  \n",
      " 4   Cholesterol     918 non-null    int64  \n",
      " 5   FastingBS       918 non-null    int64  \n",
      " 6   RestingECG      918 non-null    object \n",
      " 7   MaxHR           918 non-null    int64  \n",
      " 8   ExerciseAngina  918 non-null    object \n",
      " 9   Oldpeak         918 non-null    float64\n",
      " 10  ST_Slope        918 non-null    object \n",
      " 11  HeartDisease    918 non-null    int64  \n",
      "dtypes: float64(1), int64(6), object(5)\n",
      "memory usage: 86.2+ KB\n"
     ]
    }
   ],
   "source": [
    "data.drop_duplicates(inplace=True)\n",
    "data.info()"
   ]
  },
  {
   "cell_type": "markdown",
   "metadata": {},
   "source": [
    "Remarque : Les doublons on ete supprimés sauf qu'il n'y en avait aucun. On peut donc dire que la base est completement nettoyer."
   ]
  },
  {
   "cell_type": "markdown",
   "metadata": {},
   "source": [
    "## Preparation des données"
   ]
  },
  {
   "cell_type": "markdown",
   "metadata": {},
   "source": [
    "Je vais maintenant transformer les données non numériques en données numériques pour faciliter l'utilisation des algorithmes dans les futures parties."
   ]
  },
  {
   "cell_type": "markdown",
   "metadata": {},
   "source": [
    "### Sex"
   ]
  },
  {
   "cell_type": "code",
   "execution_count": 6,
   "metadata": {},
   "outputs": [
    {
     "data": {
      "text/plain": [
       "0      0\n",
       "1      1\n",
       "2      0\n",
       "3      1\n",
       "4      0\n",
       "      ..\n",
       "913    0\n",
       "914    0\n",
       "915    0\n",
       "916    1\n",
       "917    0\n",
       "Name: Sex, Length: 918, dtype: int64"
      ]
     },
     "execution_count": 6,
     "metadata": {},
     "output_type": "execute_result"
    }
   ],
   "source": [
    "data['Sex'] = data['Sex'].map({'M' : 0, 'F' : 1})\n",
    "data['Sex']"
   ]
  },
  {
   "cell_type": "markdown",
   "metadata": {},
   "source": [
    "### ChestPainType"
   ]
  },
  {
   "cell_type": "markdown",
   "metadata": {},
   "source": [
    "Dans ce cas, vu qu'il y'a plusieurs valeurs on va cree des colonnes pour chaques valeurs puis supprimer la colonne 'ChestPainType'"
   ]
  },
  {
   "cell_type": "code",
   "execution_count": 7,
   "metadata": {},
   "outputs": [
    {
     "name": "stdout",
     "output_type": "stream",
     "text": [
      "<class 'pandas.core.frame.DataFrame'>\n",
      "RangeIndex: 918 entries, 0 to 917\n",
      "Data columns (total 15 columns):\n",
      " #   Column          Non-Null Count  Dtype  \n",
      "---  ------          --------------  -----  \n",
      " 0   Age             918 non-null    int64  \n",
      " 1   Sex             918 non-null    int64  \n",
      " 2   RestingBP       918 non-null    int64  \n",
      " 3   Cholesterol     918 non-null    int64  \n",
      " 4   FastingBS       918 non-null    int64  \n",
      " 5   RestingECG      918 non-null    object \n",
      " 6   MaxHR           918 non-null    int64  \n",
      " 7   ExerciseAngina  918 non-null    object \n",
      " 8   Oldpeak         918 non-null    float64\n",
      " 9   ST_Slope        918 non-null    object \n",
      " 10  HeartDisease    918 non-null    int64  \n",
      " 11  TA_ChestPain    918 non-null    int32  \n",
      " 12  ATA_ChestPain   918 non-null    int32  \n",
      " 13  NAP_ChestPain   918 non-null    int32  \n",
      " 14  ASY_ChestPain   918 non-null    int32  \n",
      "dtypes: float64(1), int32(4), int64(7), object(3)\n",
      "memory usage: 93.4+ KB\n"
     ]
    }
   ],
   "source": [
    "CPL = ['TA', 'ATA', 'NAP', 'ASY']\n",
    "\n",
    "for name in CPL:\n",
    "    data[name + \"_ChestPain\"] = (data['ChestPainType'] == name).astype(int)\n",
    "\n",
    "data = data.drop('ChestPainType', axis=1)\n",
    "\n",
    "data.info()\n",
    "\n"
   ]
  },
  {
   "cell_type": "markdown",
   "metadata": {},
   "source": [
    "### RestingECG"
   ]
  },
  {
   "cell_type": "code",
   "execution_count": 8,
   "metadata": {},
   "outputs": [
    {
     "name": "stdout",
     "output_type": "stream",
     "text": [
      "<class 'pandas.core.frame.DataFrame'>\n",
      "RangeIndex: 918 entries, 0 to 917\n",
      "Data columns (total 17 columns):\n",
      " #   Column             Non-Null Count  Dtype  \n",
      "---  ------             --------------  -----  \n",
      " 0   Age                918 non-null    int64  \n",
      " 1   Sex                918 non-null    int64  \n",
      " 2   RestingBP          918 non-null    int64  \n",
      " 3   Cholesterol        918 non-null    int64  \n",
      " 4   FastingBS          918 non-null    int64  \n",
      " 5   MaxHR              918 non-null    int64  \n",
      " 6   ExerciseAngina     918 non-null    object \n",
      " 7   Oldpeak            918 non-null    float64\n",
      " 8   ST_Slope           918 non-null    object \n",
      " 9   HeartDisease       918 non-null    int64  \n",
      " 10  TA_ChestPain       918 non-null    int32  \n",
      " 11  ATA_ChestPain      918 non-null    int32  \n",
      " 12  NAP_ChestPain      918 non-null    int32  \n",
      " 13  ASY_ChestPain      918 non-null    int32  \n",
      " 14  Normal_RestingECG  918 non-null    int32  \n",
      " 15  ST_RestingECG      918 non-null    int32  \n",
      " 16  LVH_RestingECG     918 non-null    int32  \n",
      "dtypes: float64(1), int32(7), int64(7), object(2)\n",
      "memory usage: 96.9+ KB\n"
     ]
    }
   ],
   "source": [
    "\n",
    "RECG = ['Normal', 'ST', 'LVH']\n",
    "for name in RECG:\n",
    "    data[name + \"_RestingECG\"] = (data['RestingECG'] == name).astype(int)\n",
    "\n",
    "data = data.drop('RestingECG', axis=1)\n",
    "\n",
    "\n",
    "data.info()"
   ]
  },
  {
   "cell_type": "markdown",
   "metadata": {},
   "source": [
    "### ExerciseAngina"
   ]
  },
  {
   "cell_type": "code",
   "execution_count": 9,
   "metadata": {},
   "outputs": [
    {
     "data": {
      "text/plain": [
       "0      0\n",
       "1      0\n",
       "2      0\n",
       "3      1\n",
       "4      0\n",
       "      ..\n",
       "913    0\n",
       "914    0\n",
       "915    1\n",
       "916    0\n",
       "917    0\n",
       "Name: ExerciseAngina, Length: 918, dtype: int64"
      ]
     },
     "execution_count": 9,
     "metadata": {},
     "output_type": "execute_result"
    }
   ],
   "source": [
    "data['ExerciseAngina'] = data['ExerciseAngina'].map({'N' : 0, 'Y' : 1})\n",
    "data['ExerciseAngina']"
   ]
  },
  {
   "cell_type": "markdown",
   "metadata": {},
   "source": [
    "### ST_Slope"
   ]
  },
  {
   "cell_type": "code",
   "execution_count": 10,
   "metadata": {},
   "outputs": [
    {
     "name": "stdout",
     "output_type": "stream",
     "text": [
      "<class 'pandas.core.frame.DataFrame'>\n",
      "RangeIndex: 918 entries, 0 to 917\n",
      "Data columns (total 19 columns):\n",
      " #   Column             Non-Null Count  Dtype  \n",
      "---  ------             --------------  -----  \n",
      " 0   Age                918 non-null    int64  \n",
      " 1   Sex                918 non-null    int64  \n",
      " 2   RestingBP          918 non-null    int64  \n",
      " 3   Cholesterol        918 non-null    int64  \n",
      " 4   FastingBS          918 non-null    int64  \n",
      " 5   MaxHR              918 non-null    int64  \n",
      " 6   ExerciseAngina     918 non-null    int64  \n",
      " 7   Oldpeak            918 non-null    float64\n",
      " 8   HeartDisease       918 non-null    int64  \n",
      " 9   TA_ChestPain       918 non-null    int32  \n",
      " 10  ATA_ChestPain      918 non-null    int32  \n",
      " 11  NAP_ChestPain      918 non-null    int32  \n",
      " 12  ASY_ChestPain      918 non-null    int32  \n",
      " 13  Normal_RestingECG  918 non-null    int32  \n",
      " 14  ST_RestingECG      918 non-null    int32  \n",
      " 15  LVH_RestingECG     918 non-null    int32  \n",
      " 16  Up_ST_Slope        918 non-null    int32  \n",
      " 17  Flat_ST_Slope      918 non-null    int32  \n",
      " 18  Down_ST_Slope      918 non-null    int32  \n",
      "dtypes: float64(1), int32(10), int64(8)\n",
      "memory usage: 100.5 KB\n"
     ]
    }
   ],
   "source": [
    "STS = ['Up', 'Flat', 'Down']\n",
    "for name in STS:\n",
    "    data[name + \"_ST_Slope\"] = (data['ST_Slope'] == name).astype(int)\n",
    "data = data.drop('ST_Slope', axis=1)\n",
    "data.info()"
   ]
  },
  {
   "cell_type": "markdown",
   "metadata": {},
   "source": [
    "On affiche la nouvelle base de données pour bien verifier tous les changements."
   ]
  },
  {
   "cell_type": "code",
   "execution_count": 11,
   "metadata": {},
   "outputs": [
    {
     "name": "stdout",
     "output_type": "stream",
     "text": [
      "<class 'pandas.core.frame.DataFrame'>\n",
      "RangeIndex: 918 entries, 0 to 917\n",
      "Data columns (total 19 columns):\n",
      " #   Column             Non-Null Count  Dtype  \n",
      "---  ------             --------------  -----  \n",
      " 0   Age                918 non-null    int64  \n",
      " 1   Sex                918 non-null    int64  \n",
      " 2   RestingBP          918 non-null    int64  \n",
      " 3   Cholesterol        918 non-null    int64  \n",
      " 4   FastingBS          918 non-null    int64  \n",
      " 5   MaxHR              918 non-null    int64  \n",
      " 6   ExerciseAngina     918 non-null    int64  \n",
      " 7   Oldpeak            918 non-null    float64\n",
      " 8   HeartDisease       918 non-null    int64  \n",
      " 9   TA_ChestPain       918 non-null    int32  \n",
      " 10  ATA_ChestPain      918 non-null    int32  \n",
      " 11  NAP_ChestPain      918 non-null    int32  \n",
      " 12  ASY_ChestPain      918 non-null    int32  \n",
      " 13  Normal_RestingECG  918 non-null    int32  \n",
      " 14  ST_RestingECG      918 non-null    int32  \n",
      " 15  LVH_RestingECG     918 non-null    int32  \n",
      " 16  Up_ST_Slope        918 non-null    int32  \n",
      " 17  Flat_ST_Slope      918 non-null    int32  \n",
      " 18  Down_ST_Slope      918 non-null    int32  \n",
      "dtypes: float64(1), int32(10), int64(8)\n",
      "memory usage: 100.5 KB\n"
     ]
    }
   ],
   "source": [
    "data.info()"
   ]
  },
  {
   "cell_type": "markdown",
   "metadata": {},
   "source": [
    "Toutes les données sont en valeur numérique. On va maintenant verifier colonne par colonne l'ecart type et la moyenne pour ressortir les valeurs abérrantes."
   ]
  },
  {
   "cell_type": "code",
   "execution_count": 12,
   "metadata": {},
   "outputs": [
    {
     "data": {
      "text/html": [
       "<div>\n",
       "<style scoped>\n",
       "    .dataframe tbody tr th:only-of-type {\n",
       "        vertical-align: middle;\n",
       "    }\n",
       "\n",
       "    .dataframe tbody tr th {\n",
       "        vertical-align: top;\n",
       "    }\n",
       "\n",
       "    .dataframe thead th {\n",
       "        text-align: right;\n",
       "    }\n",
       "</style>\n",
       "<table border=\"1\" class=\"dataframe\">\n",
       "  <thead>\n",
       "    <tr style=\"text-align: right;\">\n",
       "      <th></th>\n",
       "      <th>Age</th>\n",
       "      <th>Sex</th>\n",
       "      <th>RestingBP</th>\n",
       "      <th>Cholesterol</th>\n",
       "      <th>FastingBS</th>\n",
       "      <th>MaxHR</th>\n",
       "      <th>ExerciseAngina</th>\n",
       "      <th>Oldpeak</th>\n",
       "      <th>HeartDisease</th>\n",
       "      <th>TA_ChestPain</th>\n",
       "      <th>ATA_ChestPain</th>\n",
       "      <th>NAP_ChestPain</th>\n",
       "      <th>ASY_ChestPain</th>\n",
       "      <th>Normal_RestingECG</th>\n",
       "      <th>ST_RestingECG</th>\n",
       "      <th>LVH_RestingECG</th>\n",
       "      <th>Up_ST_Slope</th>\n",
       "      <th>Flat_ST_Slope</th>\n",
       "      <th>Down_ST_Slope</th>\n",
       "    </tr>\n",
       "  </thead>\n",
       "  <tbody>\n",
       "    <tr>\n",
       "      <th>count</th>\n",
       "      <td>918.000000</td>\n",
       "      <td>918.000000</td>\n",
       "      <td>918.000000</td>\n",
       "      <td>918.000000</td>\n",
       "      <td>918.000000</td>\n",
       "      <td>918.000000</td>\n",
       "      <td>918.000000</td>\n",
       "      <td>918.000000</td>\n",
       "      <td>918.000000</td>\n",
       "      <td>918.000000</td>\n",
       "      <td>918.000000</td>\n",
       "      <td>918.000000</td>\n",
       "      <td>918.000000</td>\n",
       "      <td>918.000000</td>\n",
       "      <td>918.000000</td>\n",
       "      <td>918.000000</td>\n",
       "      <td>918.000000</td>\n",
       "      <td>918.000000</td>\n",
       "      <td>918.000000</td>\n",
       "    </tr>\n",
       "    <tr>\n",
       "      <th>mean</th>\n",
       "      <td>53.510893</td>\n",
       "      <td>0.210240</td>\n",
       "      <td>132.396514</td>\n",
       "      <td>198.799564</td>\n",
       "      <td>0.233115</td>\n",
       "      <td>136.809368</td>\n",
       "      <td>0.404139</td>\n",
       "      <td>0.887364</td>\n",
       "      <td>0.553377</td>\n",
       "      <td>0.050109</td>\n",
       "      <td>0.188453</td>\n",
       "      <td>0.221133</td>\n",
       "      <td>0.540305</td>\n",
       "      <td>0.601307</td>\n",
       "      <td>0.193900</td>\n",
       "      <td>0.204793</td>\n",
       "      <td>0.430283</td>\n",
       "      <td>0.501089</td>\n",
       "      <td>0.068627</td>\n",
       "    </tr>\n",
       "    <tr>\n",
       "      <th>std</th>\n",
       "      <td>9.432617</td>\n",
       "      <td>0.407701</td>\n",
       "      <td>18.514154</td>\n",
       "      <td>109.384145</td>\n",
       "      <td>0.423046</td>\n",
       "      <td>25.460334</td>\n",
       "      <td>0.490992</td>\n",
       "      <td>1.066570</td>\n",
       "      <td>0.497414</td>\n",
       "      <td>0.218289</td>\n",
       "      <td>0.391287</td>\n",
       "      <td>0.415236</td>\n",
       "      <td>0.498645</td>\n",
       "      <td>0.489896</td>\n",
       "      <td>0.395567</td>\n",
       "      <td>0.403770</td>\n",
       "      <td>0.495386</td>\n",
       "      <td>0.500271</td>\n",
       "      <td>0.252957</td>\n",
       "    </tr>\n",
       "    <tr>\n",
       "      <th>min</th>\n",
       "      <td>28.000000</td>\n",
       "      <td>0.000000</td>\n",
       "      <td>0.000000</td>\n",
       "      <td>0.000000</td>\n",
       "      <td>0.000000</td>\n",
       "      <td>60.000000</td>\n",
       "      <td>0.000000</td>\n",
       "      <td>-2.600000</td>\n",
       "      <td>0.000000</td>\n",
       "      <td>0.000000</td>\n",
       "      <td>0.000000</td>\n",
       "      <td>0.000000</td>\n",
       "      <td>0.000000</td>\n",
       "      <td>0.000000</td>\n",
       "      <td>0.000000</td>\n",
       "      <td>0.000000</td>\n",
       "      <td>0.000000</td>\n",
       "      <td>0.000000</td>\n",
       "      <td>0.000000</td>\n",
       "    </tr>\n",
       "    <tr>\n",
       "      <th>25%</th>\n",
       "      <td>47.000000</td>\n",
       "      <td>0.000000</td>\n",
       "      <td>120.000000</td>\n",
       "      <td>173.250000</td>\n",
       "      <td>0.000000</td>\n",
       "      <td>120.000000</td>\n",
       "      <td>0.000000</td>\n",
       "      <td>0.000000</td>\n",
       "      <td>0.000000</td>\n",
       "      <td>0.000000</td>\n",
       "      <td>0.000000</td>\n",
       "      <td>0.000000</td>\n",
       "      <td>0.000000</td>\n",
       "      <td>0.000000</td>\n",
       "      <td>0.000000</td>\n",
       "      <td>0.000000</td>\n",
       "      <td>0.000000</td>\n",
       "      <td>0.000000</td>\n",
       "      <td>0.000000</td>\n",
       "    </tr>\n",
       "    <tr>\n",
       "      <th>50%</th>\n",
       "      <td>54.000000</td>\n",
       "      <td>0.000000</td>\n",
       "      <td>130.000000</td>\n",
       "      <td>223.000000</td>\n",
       "      <td>0.000000</td>\n",
       "      <td>138.000000</td>\n",
       "      <td>0.000000</td>\n",
       "      <td>0.600000</td>\n",
       "      <td>1.000000</td>\n",
       "      <td>0.000000</td>\n",
       "      <td>0.000000</td>\n",
       "      <td>0.000000</td>\n",
       "      <td>1.000000</td>\n",
       "      <td>1.000000</td>\n",
       "      <td>0.000000</td>\n",
       "      <td>0.000000</td>\n",
       "      <td>0.000000</td>\n",
       "      <td>1.000000</td>\n",
       "      <td>0.000000</td>\n",
       "    </tr>\n",
       "    <tr>\n",
       "      <th>75%</th>\n",
       "      <td>60.000000</td>\n",
       "      <td>0.000000</td>\n",
       "      <td>140.000000</td>\n",
       "      <td>267.000000</td>\n",
       "      <td>0.000000</td>\n",
       "      <td>156.000000</td>\n",
       "      <td>1.000000</td>\n",
       "      <td>1.500000</td>\n",
       "      <td>1.000000</td>\n",
       "      <td>0.000000</td>\n",
       "      <td>0.000000</td>\n",
       "      <td>0.000000</td>\n",
       "      <td>1.000000</td>\n",
       "      <td>1.000000</td>\n",
       "      <td>0.000000</td>\n",
       "      <td>0.000000</td>\n",
       "      <td>1.000000</td>\n",
       "      <td>1.000000</td>\n",
       "      <td>0.000000</td>\n",
       "    </tr>\n",
       "    <tr>\n",
       "      <th>max</th>\n",
       "      <td>77.000000</td>\n",
       "      <td>1.000000</td>\n",
       "      <td>200.000000</td>\n",
       "      <td>603.000000</td>\n",
       "      <td>1.000000</td>\n",
       "      <td>202.000000</td>\n",
       "      <td>1.000000</td>\n",
       "      <td>6.200000</td>\n",
       "      <td>1.000000</td>\n",
       "      <td>1.000000</td>\n",
       "      <td>1.000000</td>\n",
       "      <td>1.000000</td>\n",
       "      <td>1.000000</td>\n",
       "      <td>1.000000</td>\n",
       "      <td>1.000000</td>\n",
       "      <td>1.000000</td>\n",
       "      <td>1.000000</td>\n",
       "      <td>1.000000</td>\n",
       "      <td>1.000000</td>\n",
       "    </tr>\n",
       "  </tbody>\n",
       "</table>\n",
       "</div>"
      ],
      "text/plain": [
       "              Age         Sex   RestingBP  Cholesterol   FastingBS  \\\n",
       "count  918.000000  918.000000  918.000000   918.000000  918.000000   \n",
       "mean    53.510893    0.210240  132.396514   198.799564    0.233115   \n",
       "std      9.432617    0.407701   18.514154   109.384145    0.423046   \n",
       "min     28.000000    0.000000    0.000000     0.000000    0.000000   \n",
       "25%     47.000000    0.000000  120.000000   173.250000    0.000000   \n",
       "50%     54.000000    0.000000  130.000000   223.000000    0.000000   \n",
       "75%     60.000000    0.000000  140.000000   267.000000    0.000000   \n",
       "max     77.000000    1.000000  200.000000   603.000000    1.000000   \n",
       "\n",
       "            MaxHR  ExerciseAngina     Oldpeak  HeartDisease  TA_ChestPain  \\\n",
       "count  918.000000      918.000000  918.000000    918.000000    918.000000   \n",
       "mean   136.809368        0.404139    0.887364      0.553377      0.050109   \n",
       "std     25.460334        0.490992    1.066570      0.497414      0.218289   \n",
       "min     60.000000        0.000000   -2.600000      0.000000      0.000000   \n",
       "25%    120.000000        0.000000    0.000000      0.000000      0.000000   \n",
       "50%    138.000000        0.000000    0.600000      1.000000      0.000000   \n",
       "75%    156.000000        1.000000    1.500000      1.000000      0.000000   \n",
       "max    202.000000        1.000000    6.200000      1.000000      1.000000   \n",
       "\n",
       "       ATA_ChestPain  NAP_ChestPain  ASY_ChestPain  Normal_RestingECG  \\\n",
       "count     918.000000     918.000000     918.000000         918.000000   \n",
       "mean        0.188453       0.221133       0.540305           0.601307   \n",
       "std         0.391287       0.415236       0.498645           0.489896   \n",
       "min         0.000000       0.000000       0.000000           0.000000   \n",
       "25%         0.000000       0.000000       0.000000           0.000000   \n",
       "50%         0.000000       0.000000       1.000000           1.000000   \n",
       "75%         0.000000       0.000000       1.000000           1.000000   \n",
       "max         1.000000       1.000000       1.000000           1.000000   \n",
       "\n",
       "       ST_RestingECG  LVH_RestingECG  Up_ST_Slope  Flat_ST_Slope  \\\n",
       "count     918.000000      918.000000   918.000000     918.000000   \n",
       "mean        0.193900        0.204793     0.430283       0.501089   \n",
       "std         0.395567        0.403770     0.495386       0.500271   \n",
       "min         0.000000        0.000000     0.000000       0.000000   \n",
       "25%         0.000000        0.000000     0.000000       0.000000   \n",
       "50%         0.000000        0.000000     0.000000       1.000000   \n",
       "75%         0.000000        0.000000     1.000000       1.000000   \n",
       "max         1.000000        1.000000     1.000000       1.000000   \n",
       "\n",
       "       Down_ST_Slope  \n",
       "count     918.000000  \n",
       "mean        0.068627  \n",
       "std         0.252957  \n",
       "min         0.000000  \n",
       "25%         0.000000  \n",
       "50%         0.000000  \n",
       "75%         0.000000  \n",
       "max         1.000000  "
      ]
     },
     "execution_count": 12,
     "metadata": {},
     "output_type": "execute_result"
    }
   ],
   "source": [
    "data.describe()"
   ]
  },
  {
   "cell_type": "markdown",
   "metadata": {},
   "source": [
    "Les colonnes a modifier sont Age, RestingBP, Cholesterol et MaxHR. "
   ]
  },
  {
   "cell_type": "markdown",
   "metadata": {},
   "source": [
    "### Nettoyage des valeures aberantes\n",
    "\n",
    "#### RestingBP"
   ]
  },
  {
   "cell_type": "markdown",
   "metadata": {},
   "source": [
    "On va maintenant supprimer les valeurs que l'on considere comme aberrantes dans la colonne de \"RestingBP\". Par exemple quand il est egale à zero. On considere que la personne est \"morte\" et donc que la ligne n'est pas pertinente. "
   ]
  },
  {
   "cell_type": "code",
   "execution_count": 13,
   "metadata": {},
   "outputs": [
    {
     "data": {
      "text/html": [
       "<div>\n",
       "<style scoped>\n",
       "    .dataframe tbody tr th:only-of-type {\n",
       "        vertical-align: middle;\n",
       "    }\n",
       "\n",
       "    .dataframe tbody tr th {\n",
       "        vertical-align: top;\n",
       "    }\n",
       "\n",
       "    .dataframe thead th {\n",
       "        text-align: right;\n",
       "    }\n",
       "</style>\n",
       "<table border=\"1\" class=\"dataframe\">\n",
       "  <thead>\n",
       "    <tr style=\"text-align: right;\">\n",
       "      <th></th>\n",
       "      <th>Age</th>\n",
       "      <th>Sex</th>\n",
       "      <th>RestingBP</th>\n",
       "      <th>Cholesterol</th>\n",
       "      <th>FastingBS</th>\n",
       "      <th>MaxHR</th>\n",
       "      <th>ExerciseAngina</th>\n",
       "      <th>Oldpeak</th>\n",
       "      <th>HeartDisease</th>\n",
       "      <th>TA_ChestPain</th>\n",
       "      <th>ATA_ChestPain</th>\n",
       "      <th>NAP_ChestPain</th>\n",
       "      <th>ASY_ChestPain</th>\n",
       "      <th>Normal_RestingECG</th>\n",
       "      <th>ST_RestingECG</th>\n",
       "      <th>LVH_RestingECG</th>\n",
       "      <th>Up_ST_Slope</th>\n",
       "      <th>Flat_ST_Slope</th>\n",
       "      <th>Down_ST_Slope</th>\n",
       "    </tr>\n",
       "  </thead>\n",
       "  <tbody>\n",
       "    <tr>\n",
       "      <th>449</th>\n",
       "      <td>55</td>\n",
       "      <td>0</td>\n",
       "      <td>0</td>\n",
       "      <td>0</td>\n",
       "      <td>0</td>\n",
       "      <td>155</td>\n",
       "      <td>0</td>\n",
       "      <td>1.5</td>\n",
       "      <td>1</td>\n",
       "      <td>0</td>\n",
       "      <td>0</td>\n",
       "      <td>1</td>\n",
       "      <td>0</td>\n",
       "      <td>1</td>\n",
       "      <td>0</td>\n",
       "      <td>0</td>\n",
       "      <td>0</td>\n",
       "      <td>1</td>\n",
       "      <td>0</td>\n",
       "    </tr>\n",
       "  </tbody>\n",
       "</table>\n",
       "</div>"
      ],
      "text/plain": [
       "     Age  Sex  RestingBP  Cholesterol  FastingBS  MaxHR  ExerciseAngina  \\\n",
       "449   55    0          0            0          0    155               0   \n",
       "\n",
       "     Oldpeak  HeartDisease  TA_ChestPain  ATA_ChestPain  NAP_ChestPain  \\\n",
       "449      1.5             1             0              0              1   \n",
       "\n",
       "     ASY_ChestPain  Normal_RestingECG  ST_RestingECG  LVH_RestingECG  \\\n",
       "449              0                  1              0               0   \n",
       "\n",
       "     Up_ST_Slope  Flat_ST_Slope  Down_ST_Slope  \n",
       "449            0              1              0  "
      ]
     },
     "execution_count": 13,
     "metadata": {},
     "output_type": "execute_result"
    }
   ],
   "source": [
    "newdata = data[data['RestingBP'] == 0]\n",
    "newdata.head()"
   ]
  },
  {
   "cell_type": "markdown",
   "metadata": {},
   "source": [
    "Ensuite supprimer cette ligne du dataset"
   ]
  },
  {
   "cell_type": "code",
   "execution_count": 14,
   "metadata": {},
   "outputs": [
    {
     "name": "stdout",
     "output_type": "stream",
     "text": [
      "<class 'pandas.core.frame.DataFrame'>\n",
      "RangeIndex: 918 entries, 0 to 917\n",
      "Data columns (total 19 columns):\n",
      " #   Column             Non-Null Count  Dtype  \n",
      "---  ------             --------------  -----  \n",
      " 0   Age                918 non-null    int64  \n",
      " 1   Sex                918 non-null    int64  \n",
      " 2   RestingBP          918 non-null    int64  \n",
      " 3   Cholesterol        918 non-null    int64  \n",
      " 4   FastingBS          918 non-null    int64  \n",
      " 5   MaxHR              918 non-null    int64  \n",
      " 6   ExerciseAngina     918 non-null    int64  \n",
      " 7   Oldpeak            918 non-null    float64\n",
      " 8   HeartDisease       918 non-null    int64  \n",
      " 9   TA_ChestPain       918 non-null    int32  \n",
      " 10  ATA_ChestPain      918 non-null    int32  \n",
      " 11  NAP_ChestPain      918 non-null    int32  \n",
      " 12  ASY_ChestPain      918 non-null    int32  \n",
      " 13  Normal_RestingECG  918 non-null    int32  \n",
      " 14  ST_RestingECG      918 non-null    int32  \n",
      " 15  LVH_RestingECG     918 non-null    int32  \n",
      " 16  Up_ST_Slope        918 non-null    int32  \n",
      " 17  Flat_ST_Slope      918 non-null    int32  \n",
      " 18  Down_ST_Slope      918 non-null    int32  \n",
      "dtypes: float64(1), int32(10), int64(8)\n",
      "memory usage: 100.5 KB\n"
     ]
    }
   ],
   "source": [
    "data.info()"
   ]
  },
  {
   "cell_type": "code",
   "execution_count": 15,
   "metadata": {},
   "outputs": [
    {
     "name": "stdout",
     "output_type": "stream",
     "text": [
      "1 ligne(s) a (ont) ete supprimee(s)\n",
      "\n",
      "<class 'pandas.core.frame.DataFrame'>\n",
      "Index: 917 entries, 0 to 917\n",
      "Data columns (total 19 columns):\n",
      " #   Column             Non-Null Count  Dtype  \n",
      "---  ------             --------------  -----  \n",
      " 0   Age                917 non-null    int64  \n",
      " 1   Sex                917 non-null    int64  \n",
      " 2   RestingBP          917 non-null    int64  \n",
      " 3   Cholesterol        917 non-null    int64  \n",
      " 4   FastingBS          917 non-null    int64  \n",
      " 5   MaxHR              917 non-null    int64  \n",
      " 6   ExerciseAngina     917 non-null    int64  \n",
      " 7   Oldpeak            917 non-null    float64\n",
      " 8   HeartDisease       917 non-null    int64  \n",
      " 9   TA_ChestPain       917 non-null    int32  \n",
      " 10  ATA_ChestPain      917 non-null    int32  \n",
      " 11  NAP_ChestPain      917 non-null    int32  \n",
      " 12  ASY_ChestPain      917 non-null    int32  \n",
      " 13  Normal_RestingECG  917 non-null    int32  \n",
      " 14  ST_RestingECG      917 non-null    int32  \n",
      " 15  LVH_RestingECG     917 non-null    int32  \n",
      " 16  Up_ST_Slope        917 non-null    int32  \n",
      " 17  Flat_ST_Slope      917 non-null    int32  \n",
      " 18  Down_ST_Slope      917 non-null    int32  \n",
      "dtypes: float64(1), int32(10), int64(8)\n",
      "memory usage: 139.8 KB\n"
     ]
    }
   ],
   "source": [
    "sup = 0\n",
    "for index in data.index:\n",
    "    i = index\n",
    "    if data['RestingBP'][i] == 0:\n",
    "        sup = sup + 1 \n",
    "        data.drop(i, inplace=True)\n",
    "\n",
    "print(sup,\"ligne(s) a (ont) ete supprimee(s)\\n\")\n",
    "data.info()"
   ]
  },
  {
   "cell_type": "markdown",
   "metadata": {},
   "source": [
    "#### Cholesterol"
   ]
  },
  {
   "cell_type": "markdown",
   "metadata": {},
   "source": [
    "Pour le cholesterol c'est un peu plus compliqué.\n",
    "On considere que le taux devient léthal à plus de 5,18 mmol/L.\n",
    "Mais il existe certain cas rare ou le taux de cholesterol peut attendre des données abérrantes sans pour autant que le patient soit mort.\n",
    "\n",
    "On parle alors hypercholestérolémie familiale. On n'est pas sur a 100% qu'un ou des patients ait cette maladie. Nous allons alors ignorer les valeures aberrantes dans la colonne \"Cholesterol\"\n",
    "\n",
    "NB: on va changer les patients dont le cholestrerol est egale à zéro en la mediane de la colonne."
   ]
  },
  {
   "cell_type": "code",
   "execution_count": 16,
   "metadata": {},
   "outputs": [
    {
     "name": "stdout",
     "output_type": "stream",
     "text": [
      "Nombre de valeurs égales à 0 dans Cholesterol de base : 171\n",
      "Nombre de valeurs égales à 0 dans Cholesterol : 0\n",
      "Médiane de Cholesterol : 237.0\n"
     ]
    }
   ],
   "source": [
    "print(\"Nombre de valeurs égales à 0 dans Cholesterol de base :\", (data['Cholesterol'] == 0).sum())\n",
    "\n",
    "# Calculer la médiane des valeurs non nulles de cholestérol\n",
    "cholesterol_median = data[data['Cholesterol'] != 0]['Cholesterol'].median()\n",
    "\n",
    "# Remplacer les valeurs 0 par la médiane\n",
    "data['Cholesterol'] = data['Cholesterol'].replace(0, cholesterol_median)\n",
    "\n",
    "# Vérification\n",
    "print(\"Nombre de valeurs égales à 0 dans Cholesterol :\", (data['Cholesterol'] == 0).sum())\n",
    "print(\"Médiane de Cholesterol :\", data['Cholesterol'].median())"
   ]
  },
  {
   "cell_type": "markdown",
   "metadata": {},
   "source": [
    "#### Age"
   ]
  },
  {
   "cell_type": "markdown",
   "metadata": {},
   "source": [
    "Pour la colonne age, on aurait pu se supprimer les valeurs aberrantes (par exemple : - 18 ans ou + 80 ans). Notre echantillon a des valeurs entre 28 ans et 77 ans. Je considere que cet echantillon est assez representatif et permettras de mieux etudies les chances de maladies cardiaques, donc je ne vais ni changer ni supprimer des valeurs."
   ]
  },
  {
   "cell_type": "markdown",
   "metadata": {},
   "source": [
    "#### MaxHR"
   ]
  },
  {
   "cell_type": "markdown",
   "metadata": {},
   "source": [
    "Pour la colonne \"MaxHR\", qui represente la frequence cardiaque maximal c'est plus complexe également. \n",
    "\n",
    "On considere que le frequence cardiaque maximale doit etre comprise entre 50 et 250 bpm. Plus bas ou plus Haut, ce sont des signes de complications cardiaques certains. Heureusement dans notre dataset les données sont comprises entre 60 entre 60 et 202, donc je ne vais pas supprimer de données par rapport à cette ligne."
   ]
  },
  {
   "cell_type": "markdown",
   "metadata": {},
   "source": [
    "#### OldPeak"
   ]
  },
  {
   "cell_type": "code",
   "execution_count": 17,
   "metadata": {},
   "outputs": [
    {
     "name": "stdout",
     "output_type": "stream",
     "text": [
      "<class 'pandas.core.frame.DataFrame'>\n",
      "Index: 13 entries, 321 to 512\n",
      "Data columns (total 19 columns):\n",
      " #   Column             Non-Null Count  Dtype  \n",
      "---  ------             --------------  -----  \n",
      " 0   Age                13 non-null     int64  \n",
      " 1   Sex                13 non-null     int64  \n",
      " 2   RestingBP          13 non-null     int64  \n",
      " 3   Cholesterol        13 non-null     int64  \n",
      " 4   FastingBS          13 non-null     int64  \n",
      " 5   MaxHR              13 non-null     int64  \n",
      " 6   ExerciseAngina     13 non-null     int64  \n",
      " 7   Oldpeak            13 non-null     float64\n",
      " 8   HeartDisease       13 non-null     int64  \n",
      " 9   TA_ChestPain       13 non-null     int32  \n",
      " 10  ATA_ChestPain      13 non-null     int32  \n",
      " 11  NAP_ChestPain      13 non-null     int32  \n",
      " 12  ASY_ChestPain      13 non-null     int32  \n",
      " 13  Normal_RestingECG  13 non-null     int32  \n",
      " 14  ST_RestingECG      13 non-null     int32  \n",
      " 15  LVH_RestingECG     13 non-null     int32  \n",
      " 16  Up_ST_Slope        13 non-null     int32  \n",
      " 17  Flat_ST_Slope      13 non-null     int32  \n",
      " 18  Down_ST_Slope      13 non-null     int32  \n",
      "dtypes: float64(1), int32(10), int64(8)\n",
      "memory usage: 1.5 KB\n"
     ]
    }
   ],
   "source": [
    "newdata = data[data['Oldpeak'] < 0]\n",
    "\n",
    "newdata.info()"
   ]
  },
  {
   "cell_type": "markdown",
   "metadata": {},
   "source": [
    "Il y'a 13 valeures negatives de Oldpeak.\n",
    "\n",
    "Petit contexte :\n",
    "\n",
    "Il s'agit de la depression de ST, un valeurs numeriques calculé grace a un  électrocardiogramme (ECG). Elle correspond à une baisse du segment ST de plus de 0,5 mm en dessous de la ligne de base et peut indiquer plusieurs problèmes cardiaques.\n",
    "\n",
    "Mais ces problèmes cardiaques peuvent être d'origine diverses. Comme Ischémie myocardique (manque d'oxygène au cœur), un effort physique intense ou encore un des Effets secondaires de médicaments. Les causes sont telement diverses que au final elles n'ont pas vraiement d'impacts sur cette études. J'ai donc décidé de conservé les 13 valeurs plus hauts."
   ]
  },
  {
   "cell_type": "markdown",
   "metadata": {},
   "source": [
    "## La colonne Heart Disease à la fin"
   ]
  },
  {
   "cell_type": "code",
   "execution_count": 18,
   "metadata": {},
   "outputs": [],
   "source": [
    "\n",
    "data = data.assign(HeartDisease=data.pop('HeartDisease'))"
   ]
  },
  {
   "cell_type": "markdown",
   "metadata": {},
   "source": [
    "## Export de la base de données nettoyés"
   ]
  },
  {
   "cell_type": "code",
   "execution_count": 19,
   "metadata": {},
   "outputs": [],
   "source": [
    "data.to_csv(\"heart_disease_by_ceo.csv\")"
   ]
  },
  {
   "cell_type": "markdown",
   "metadata": {},
   "source": [
    "## Evaluation des modeles predictifs"
   ]
  },
  {
   "cell_type": "markdown",
   "metadata": {},
   "source": [
    "Avec ce dataset nous allons réaliser plusieurs modelès predictifs pour determiner les chances de maladies cardiaques. Nous allons évaluer chacun de ses modèles pour determiner lequel est le plus fiable. L'évaluation se fera dans un premier temps à l'aide de la matrice de confusion et des données de précision, de rappel et de F1 puis à l'aides des critères suivants : \n",
    "\n",
    "- Les Performances du modèle : La précision, l'accuracy, le rappel et le F1-score. Et egalement la capacité a reconnaitre les faux positifs et les faux négatifs, pour cela nous allons utiliser les 5 mêmes patients tests pour chaque modèle.\n",
    "\n",
    "- La robustesse du modèle : La validation croisée. Pour tout nos modèles nous utiliserons 80% des données pour l'entrainement et 20% pour le test.\n",
    "\n",
    "- La complexité du modèle et la rapidité : Le temps d'execution.\n",
    "\n",
    "- L'interprétabilité du modèle et son Explicabilité."
   ]
  }
 ],
 "metadata": {
  "kernelspec": {
   "display_name": "Python 3",
   "language": "python",
   "name": "python3"
  },
  "language_info": {
   "codemirror_mode": {
    "name": "ipython",
    "version": 3
   },
   "file_extension": ".py",
   "mimetype": "text/x-python",
   "name": "python",
   "nbconvert_exporter": "python",
   "pygments_lexer": "ipython3",
   "version": "3.10.6"
  }
 },
 "nbformat": 4,
 "nbformat_minor": 2
}
